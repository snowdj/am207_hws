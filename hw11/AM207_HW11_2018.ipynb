{
 "cells": [
  {
   "cell_type": "markdown",
   "metadata": {},
   "source": [
    "# APMTH 207: Advanced Scientific Computing: \n",
    "## Stochastic Methods for Data Analysis, Inference and Optimization\n",
    "## Homework 11\n",
    "**Harvard University**<br>\n",
    "**Spring 2017**<br>\n",
    "**Instructors: Rahul Dave**<br>\n",
    "**Due Date: ** Monday, April 23rd, 2018 at 11:59pm\n",
    "\n",
    "**Instructions:**\n",
    "\n",
    "- Upload your final answers as an iPython notebook containing all work to Canvas.\n",
    "\n",
    "- Structure your notebook and your work to maximize readability."
   ]
  },
  {
   "cell_type": "code",
   "execution_count": 1,
   "metadata": {
    "collapsed": true
   },
   "outputs": [],
   "source": [
    "import numpy as np\n",
    "import pandas as pd\n",
    "import time\n",
    "\n",
    "import pymc3 as pm\n",
    "import theano.tensor as T\n",
    "\n",
    "import matplotlib\n",
    "import matplotlib.pyplot as plt\n",
    "\n",
    "import seaborn as sns\n",
    "sns.set_style(\"whitegrid\", {'axes.grid' : False})\n",
    "sns.set_context('talk')\n",
    "%matplotlib inline"
   ]
  },
  {
   "cell_type": "markdown",
   "metadata": {},
   "source": [
    "## The AM207 Cambridge Nursery\n",
    "\n",
    "A plant nursery in Cambridge is exprimentally cross-breeding two types of hibiscus flowers: blue and pink. The goal is to create an exotic flower whose petals are pink with a ring of blue on each. \n",
    "\n",
    "There are four types of child plant that can result from this cross-breeding: \n",
    "\n",
    "  - Type 1: blue petals\n",
    "  - Type 2: pink petals \n",
    "  - Type 3: purple petals\n",
    "  - Type 4: pink petals with a blue ring on each (the desired effect). \n",
    "\n",
    "Out of 197 initial cross-breedings, the nursery obtained the following distribution over the four types of child plants: \n",
    "$$Y = (y_1, y_2, y_3, y_4) = (125, 18, 20, 34)$$\n",
    "where $y_i$ represents the number of child plants that are of type $i$.\n",
    "\n",
    "The nursery then consulted a famed Harvard plant geneticist, who informed them that the probability of obtaining each type of child plant in any single breeding experiment is as follows:\n",
    "$$ \\frac{\\theta+2}{4}, \\frac{1-\\theta}{4}, \\frac{1-\\theta}{4}, \\frac{\\theta}{4}.$$\n",
    "Unfortunately, the geneticist did not specify the quantity $\\theta$.\n",
    "\n",
    "Clearly, the nursery is interested in understanding how many cross-breeding they must perform, on average, in order to obtain a certain number of child plants with the exotic blue rings. To do this they must be able to compute $\\theta$. \n",
    "\n",
    "The owners of the nursery, being top students in AM207, decided to model the experiment in hopes of discovering $\\theta$ using the results from their 197 initial experiments. \n",
    "\n",
    "They chose to model the observed data using a multinomial model and thus calculated the likelihood to be:\n",
    "$$ p(y  \\vert  \\theta) \\propto (2+\\theta)^{y_1} (1-\\theta)^{y_2+y_3}  \\, \\theta^{y_4}\n",
    "$$\n",
    "\n",
    "Being good Bayesians, they also imposed a prior on $\\theta$, $\\rm{Beta}(a, b)$.\n",
    "\n",
    "Thus, the posterior is:\n",
    "$$ p(\\theta \\vert  Y) = \\left( 2+\\theta \\right)^{y_1} (1-\\theta)^{y_2+y_3} \\, \\theta^{\n",
    "y_4} \\, \\theta^{a-1} \\, (1-\\theta)^{b-1}. $$\n",
    "\n",
    "If the nursery owners are able to sample from the posterior, they would be able to understand the distribution of $\\theta$ and make appropriate estimates."
   ]
  },
  {
   "cell_type": "markdown",
   "metadata": {},
   "source": [
    "## Problem 1. Sampling using data augmentation\n",
    "\n",
    "Realizing that it would be difficult to sample from the posterior directly and after being repeatedly frustrated by attempts of Metropolis-Hastings and Gibbs sampling for this model, the nursery owners decided to augment their model and hopefully obtain a friendlier looking distribution that allows for easy sampling.\n",
    "\n",
    "They augment the data with a new variable $z$ such that:\n",
    "$$z + (y_1 - z) = y_1.$$\n",
    "That is, using $z$, we are breaking $y_1$, the number of type I child plants, into two subtypes. Let the probability of obtaining the two subtype be $1/2$ and $\\theta/4$, respectively. Now, we can interpret $y_1$ to be the total number of trials in a binomial trial. Thus, the new likelihood can be written as\n",
    "$$ p(y, z  \\vert  \\theta) \\propto \\binom{y_{1}}{z} \\left (\\frac{1}{2} \\right )^{y_1-z} \\left(\\frac{\\theta}{4} \\right )^{z}  (1-\\theta)^{y_2+y_3}  \\, \\theta^{y_4}\n",
    "$$\n",
    "\n",
    "\n",
    "Derive the joint posterior $p(\\theta, z  \\vert  y)$ and sample from it using Gibbs sampling.\n",
    "\n",
    "Visualize the distribution of theta and, from this distribution, estimate the probability of obtaining a type 4 child plant (with the blue rings) in any cross-breeding experiment."
   ]
  },
  {
   "cell_type": "markdown",
   "metadata": {},
   "source": [
    "### Answer to Problem 1\n",
    "\n",
    "We know $\\theta \\sim \\text{Beta}(a, b)$, and $ p(y, z  \\vert  \\theta) \\propto \\binom{y_{1}}{z} \\left (\\frac{1}{2} \\right )^{y_1-z} \\left(\\frac{\\theta}{4} \\right )^{z}  (1-\\theta)^{y_2+y_3}  \\, \\theta^{y_4}$. Thus\n",
    "\n",
    "$$p(\\theta, z \\vert y) \\propto p(y, z \\vert \\theta)\\, p(\\theta) = \n",
    "\\binom{y_{1}}{z} \\left (\\frac{1}{2} \\right )^{y_1-z} \\left(\\frac{\\theta}{4} \\right )^{z}  (1-\\theta)^{y_2+y_3}  \\, \\theta^{y_4}\\, \\theta^{a-1}(1-\\theta)^{b-1}\n",
    "$$\n",
    "\n",
    "To obtain conditionals, we keep the relevant variables.\n",
    "\n",
    "$$p(\\theta \\vert y, z) \\propto \\theta^{z+y_4+a-1}(1-\\theta)^{y_2+y_3+b-1}$$\n",
    "i.e.,\n",
    "$$\\theta \\vert y, z \\sim \\text{Beta}(z+y_4+a, y_2+y_3+b).$$\n",
    "And $$p(z \\vert y, \\theta) \\propto \\binom{y_{1}}{z}\\left (\\frac{2}{\\theta+2} \\right )^{y_1-z} \\left(\\frac{\\theta}{\\theta+2} \\right )^{z} $$\n",
    "i.e.,\n",
    "$$z \\vert y, \\theta \\sim \\text{Binomial}(y_1, \\frac{\\theta}{\\theta+2}).$$\n",
    "We can implement Gibbs sampling using the above conditionals. And we simply choose a uniform prior for $\\theta$ (i.e., $a=b=1$)."
   ]
  },
  {
   "cell_type": "code",
   "execution_count": 2,
   "metadata": {
    "collapsed": true
   },
   "outputs": [],
   "source": [
    "def corrplot(trace, maxlags=50):\n",
    "    plt.acorr(trace-np.mean(trace),  normed=True, maxlags=maxlags);\n",
    "    plt.xlim([0, maxlags])\n",
    "\n",
    "def effective_sample_size(data, step=1):\n",
    "    \n",
    "    # References:\n",
    "    # https://code.google.com/p/biopy/source/browse/trunk/biopy/bayesianStats.py?r=67\n",
    "    # https://am207.github.io/2018spring/wiki/tetchygibbs.html\n",
    "    \n",
    "    n = len(data)\n",
    "    assert n > 1\n",
    "    maxlags = min(n//3, 1000)\n",
    "    \n",
    "    gamma_stat = [0, ] * maxlags\n",
    "    \n",
    "    var_stat = 0.0\n",
    "    \n",
    "    if type(data) != np.ndarray:\n",
    "        data = np.array(data)\n",
    "        \n",
    "    data_normed = data - data.mean()\n",
    "    \n",
    "    for lag in range(maxlags):\n",
    "        v1 = data_normed[:n-lag]\n",
    "        v2 = data_normed[lag:]\n",
    "        v = v1 * v2\n",
    "        gamma_stat[lag] = sum(v) / len(v)\n",
    "        \n",
    "        if lag == 0:\n",
    "            var_stat = gamma_stat[0]\n",
    "        elif lag % 2 == 0:\n",
    "            s = gamma_stat[lag-1] + gamma_stat[lag]\n",
    "            if s > 0:\n",
    "                var_stat += 2 * s\n",
    "            else:\n",
    "                break\n",
    "                \n",
    "    act = step * var_stat / gamma_stat[0]\n",
    "    ess = step * n / act\n",
    "    \n",
    "    return ess\n",
    "    \n",
    "def print_ess(data):\n",
    "    ess1 = effective_sample_size(data[:, 0])\n",
    "    ess2 = effective_sample_size(data[:, 1])\n",
    "    print('Effective size for theta:', ess1, ' of', len(data), 'samples; effective rate:', ess1/len(data))\n",
    "    print('Effective size for z:', ess2, ' of', len(data), 'samples; effective rate:', ess2/len(data))\n",
    "    \n",
    "class Gibbs:\n",
    "    def __init__(self, a=1, b=1, y=np.array([125, 18, 20, 34])):\n",
    "        self.a = a\n",
    "        self.b = b\n",
    "        self.y = y\n",
    "        \n",
    "    def run(self, n=20000, x_init=np.array([0.5, 0]), seed=0):\n",
    "        a = self.a\n",
    "        b = self.b\n",
    "        y = self.y\n",
    "        \n",
    "        a0 = y[3] + a\n",
    "        b1 = y[1] + y[2] + b\n",
    "        \n",
    "        samples = np.empty((n+1, 2))\n",
    "        samples[0] = x_init\n",
    "        \n",
    "        if seed is not None:\n",
    "            np.random.seed(seed)\n",
    "            \n",
    "        for i in range(1, n+1):\n",
    "            a1 = samples[i-1, 1] + a0\n",
    "            samples[i, 0] = np.random.beta(a1, b1)\n",
    "            \n",
    "            p = samples[i, 0] / (samples[i, 0] + 2)\n",
    "            samples[i, 1] = np.random.binomial(y[0], p)\n",
    "            \n",
    "        self.n = n\n",
    "        self.samples = samples[1:]\n",
    "        return self\n",
    "    \n",
    "    def process(self, burnin=0, thin=1):\n",
    "        self.burnin = burnin\n",
    "        self.thin = thin\n",
    "        self.samples2 = self.samples[burnin::thin]\n",
    "        return self"
   ]
  },
  {
   "cell_type": "code",
   "execution_count": 3,
   "metadata": {
    "collapsed": true
   },
   "outputs": [],
   "source": [
    "g0 = Gibbs().run().process(thin=2)"
   ]
  },
  {
   "cell_type": "code",
   "execution_count": 4,
   "metadata": {},
   "outputs": [
    {
     "name": "stdout",
     "output_type": "stream",
     "text": [
      "No burnin and thining:\n",
      "Effective size for theta: 14612.3871292  of 20000 samples; effective rate: 0.73061935646\n",
      "Effective size for z: 14841.4240569  of 20000 samples; effective rate: 0.742071202847\n"
     ]
    },
    {
     "data": {
      "image/png": "[encoded data removed]",
      "text/plain": [
       "<matplotlib.figure.Figure at 0x7f142391df60>"
      ]
     },
     "metadata": {},
     "output_type": "display_data"
    }
   ],
   "source": [
    "plt.figure(figsize=(10, 3))\n",
    "\n",
    "plt.subplot(1, 2, 1)\n",
    "corrplot(g0.samples[:, 0])\n",
    "plt.ylabel(r'autocorrelation($\\theta$)')\n",
    "\n",
    "plt.subplot(1, 2, 2)\n",
    "corrplot(g0.samples[:, 1])\n",
    "plt.ylabel('autocorrelation($z$)')\n",
    "plt.tight_layout()\n",
    "\n",
    "print('No burnin and thining:')\n",
    "print_ess(g0.samples)"
   ]
  },
  {
   "cell_type": "code",
   "execution_count": 5,
   "metadata": {},
   "outputs": [
    {
     "name": "stdout",
     "output_type": "stream",
     "text": [
      "burnin = 0, thining = 2:\n",
      "Effective size for theta: 9592.65625146  of 10000 samples; effective rate: 0.959265625146\n",
      "Effective size for z: 9406.20749842  of 10000 samples; effective rate: 0.940620749842\n"
     ]
    },
    {
     "data": {
      "image/png": "[encoded data removed]",
      "text/plain": [
       "<matplotlib.figure.Figure at 0x7f141fc02f28>"
      ]
     },
     "metadata": {},
     "output_type": "display_data"
    }
   ],
   "source": [
    "plt.figure(figsize=(10, 3))\n",
    "\n",
    "plt.subplot(1, 2, 1)\n",
    "corrplot(g0.samples2[:, 0])\n",
    "plt.ylabel(r'autocorrelation($\\theta$)')\n",
    "\n",
    "plt.subplot(1, 2, 2)\n",
    "corrplot(g0.samples2[:, 1])\n",
    "plt.ylabel('autocorrelation($z$)')\n",
    "plt.tight_layout()\n",
    "\n",
    "print('burnin = {}, thining = {}:'.format(g0.burnin, g0.thin))\n",
    "print_ess(g0.samples2)"
   ]
  },
  {
   "cell_type": "markdown",
   "metadata": {},
   "source": [
    "As we can see, autocorrelations are negligible after thining at 2."
   ]
  },
  {
   "cell_type": "code",
   "execution_count": 6,
   "metadata": {},
   "outputs": [
    {
     "data": {
      "image/png": "[encoded data removed]",
      "text/plain": [
       "<matplotlib.figure.Figure at 0x7f141fb5c978>"
      ]
     },
     "metadata": {},
     "output_type": "display_data"
    }
   ],
   "source": [
    "thetas = g0.samples2[:, 0]\n",
    "\n",
    "plt.plot(thetas);\n",
    "plt.ylabel(r'$\\theta$');"
   ]
  },
  {
   "cell_type": "markdown",
   "metadata": {},
   "source": [
    "We can visualize the distribution of $\\theta$ as follows."
   ]
  },
  {
   "cell_type": "code",
   "execution_count": 7,
   "metadata": {},
   "outputs": [
    {
     "name": "stdout",
     "output_type": "stream",
     "text": [
      "mean(theta) = 0.6229266753714496\n",
      "std(theta) = 0.05064704358302179\n"
     ]
    },
    {
     "data": {
      "image/png": "[encoded data removed]",
      "text/plain": [
       "<matplotlib.figure.Figure at 0x7f141fa7a198>"
      ]
     },
     "metadata": {},
     "output_type": "display_data"
    }
   ],
   "source": [
    "sns.distplot(thetas);\n",
    "plt.xlabel(r'$\\theta$');\n",
    "\n",
    "print('mean(theta) = {}'.format(np.mean(thetas)))\n",
    "print('std(theta) = {}'.format(np.std(thetas)))"
   ]
  },
  {
   "cell_type": "code",
   "execution_count": 8,
   "metadata": {},
   "outputs": [
    {
     "name": "stdout",
     "output_type": "stream",
     "text": [
      "The estimate of the probability of obtaining a type 4 child plant is 0.1557.\n",
      "The 2-sigma envelope is [0.1304, 0.1811].\n"
     ]
    }
   ],
   "source": [
    "print('The estimate of the probability of obtaining a type 4 child plant is {:.4f}.'.format(np.mean(thetas/4)))\n",
    "print('The 2-sigma envelope is [{:.4f}, {:.4f}].'.format(np.mean(thetas/4)-2*np.std(thetas/4), \\\n",
    "                                                         np.mean(thetas/4)+2*np.std(thetas/4)))"
   ]
  },
  {
   "cell_type": "markdown",
   "metadata": {},
   "source": [
    "## Problem 2. Finding the MLE using Expectation Maximization\n",
    "\n",
    "Treat the augmented model as a latent variable model. \n",
    "\n",
    "### Part A. \n",
    "\n",
    "Write down an expression (up to unimportant constants - you must decide what unimportant means) for each of the following:\n",
    "\n",
    "(1) the observed data log likelihood\n",
    "\n",
    "(2) the complete(full) data log likelihood\n",
    "\n",
    "**Hint:** You should already have the observed data likelihood and the complete data likelihood from Problem 1, you just need to take their logs for this problem.\n",
    "\n",
    "(3) the Auxilary function, $Q(\\theta, \\theta^{(t-1)})$, or the expected complete(full) data log likelihood, defined by\n",
    "$$Q(\\theta, \\theta^{(t-1)}) = \\mathbb{E}_{Z  \\vert  Y=y, \\Theta = \\theta^{t-1}}[\\text{the complete data log likelihood}]$$\n",
    "\n",
    "In other words $Z  \\vert  Y=y, \\Theta = \\theta^{t-1}$ is $q(z, \\theta_{old})$ from lecture at the end of the E-step and $Q$ is the z-posterior expectation (at $\\theta_{old}$) of the full data log likelihood, which is the ELBO minus the entropy of $q$ (which being evaluated at $\\theta_{old}$ is not dependent on $\\theta$ and thus irrelevant for maximization).\n",
    "\n",
    "### Part B:\n",
    "\n",
    "We will maximize the likelihood through Expectation Maximization (EM). In order to preform EM, we must iterate through the following steps\n",
    "\n",
    "- (Expectation) Compute the Auxilary function, $Q(\\theta, \\theta^{t-1})$ (the expectation of the full data likelihood)\n",
    "- (Maximization) Compute $\\theta^{t} = \\text{argmax}_\\theta Q(\\theta, \\theta^{(t-1)})$\n",
    "\n",
    "Thus, you must compute exact formulae for the following:\n",
    "1. the Auxilary function, $Q(\\theta, \\theta^{(t-1)})$, for a given $\\theta^{(t-1)}$. That is, compute the expectation of the complete data log likelihood.\n",
    "2. $\\theta^{t}$, by maximizing the Auxilary function $Q(\\theta, \\theta^{(t-1)})$.\n",
    "\n",
    "**Hint:** You don't actually need to do any difficult optimization for the M-step. After taking the expectation of the complete data log likelihood in the E-step, match your $Q(\\theta, \\theta^{(t-1)})$ to the log pdf of a familiar distribution, then use the known formula for the mode of this distribution to optimize $Q(\\theta, \\theta^{(t-1)})$.\n",
    "\n",
    "Use these to **estimate the MLE** of $\\theta$ using EM (choose your own reasonable criterion for convergence)."
   ]
  },
  {
   "cell_type": "markdown",
   "metadata": {},
   "source": [
    "### Answer to Problem 2 Part A\n",
    "\n",
    "Let $n$ be the total number of initial cross-breedings ($n=197$ in this case); let $C_i$ represent unimportant constants.\n",
    "\n",
    "**(1) the observed data log likelihood**\n",
    "\n",
    "$$y \\vert \\theta \\sim \\text{Multinomial}\\left (y; n, \\frac{\\theta+2}{4}, \\frac{1-\\theta}{4}, \\frac{1-\\theta}{4}, \\frac{\\theta}{4}\\right )$$\n",
    "\n",
    "$$\\log p(y \\vert \\theta)=y_1\\log (2+\\theta)+(y_2+y_3)\\log (1-\\theta)+y_4\\log \\theta + C_0$$\n",
    "\n",
    "**(2) the complete (full) data log likelihood**\n",
    "\n",
    "$$\\log p(y, z \\vert \\theta) = \\log \\binom{y_1}{z}+(y_1-z)\\log\\frac{1}{2}+z\\log \\frac{\\theta}{4}+(y_2+y_3)\\log (1-\\theta)+y_4\\log \\theta+C_1$$\n",
    "\n",
    "**(3) the Auxilary function**\n",
    "\n",
    "We know from problem 1 that $$z \\vert y, \\theta \\sim \\text{Binomial}(y_1, \\frac{\\theta}{\\theta+2})$$. Thus, \n",
    "$$\\mathbb{E}_{z\\vert y,\\theta^{t-1}}(z) = \\frac{y_1\\theta^{t-1}}{\\theta^{t-1}+2}.$$\n",
    "\n",
    "Let $F(z, \\theta^{t-1})$ represent terms not involving $\\theta$ (including unimportant constants), then\n",
    "\n",
    "\\begin{align}\n",
    "Q(\\theta, \\theta^{t-1}) =&\\ \\mathbb{E}_{z\\vert y,\\theta^{t-1}}[\\log p(y,z\\vert \\theta)] =\\ \\mathbb{E}_{z\\vert y,\\theta^{t-1}}\\left [\\log \\binom{y_1}{z}+(y_1-z)\\log\\frac{1}{2}+z\\log \\frac{\\theta}{4}+(y_2+y_3)\\log (1-\\theta)+y_4\\log \\theta+C_1\\right ] \\\\\n",
    "=&\\ F(z, \\theta^{t-1}) + \\mathbb{E}_{z\\vert y,\\theta^{t-1}}[z\\log\\theta+y_4\\log\\theta+(y_2+y_3)\\log(1-\\theta)]\\\\\n",
    "=&\\ F(z, \\theta^{t-1}) + (\\mathbb{E}_{z\\vert y,\\theta^{t-1}}(z)+y_4)\\log\\theta + (y_2+y_3)\\log(1-\\theta),\n",
    "\\end{align}\n",
    "where\n",
    "$$\\mathbb{E}_{z\\vert y,\\theta^{t-1}}(z) = \\frac{y_1\\theta^{t-1}}{\\theta^{t-1}+2}.$$"
   ]
  },
  {
   "cell_type": "markdown",
   "metadata": {},
   "source": [
    "### Answer to Problem 2 Part B\n",
    "\n",
    "At E-step, we need to evaluate\n",
    "$$\\mathbb{E}_{z\\vert y,\\theta^{t-1}}(z) = \\frac{y_1\\theta^{t-1}}{\\theta^{t-1}+2}.$$\n",
    "\n",
    "At M-step, we know\n",
    "$$Q(\\theta, \\theta^{t-1}) = \\ F(z, \\theta^{t-1}) + (\\mathbb{E}_{z\\vert y,\\theta^{t-1}}(z)+y_4)\\log\\theta + (y_2+y_3)\\log(1-\\theta).$$\n",
    "\n",
    "Let $\\frac{\\partial Q(\\theta, \\theta^{t-1})}{\\partial \\theta}=0$, we get\n",
    "$$\\theta^t=\\frac{y_4+\\mathbb{E}_{z\\vert y,\\theta^{t-1}}(z)}{y_2+y_3+y_4+\\mathbb{E}_{z\\vert y,\\theta^{t-1}}(z)}.$$\n",
    "\n",
    "We can iterate the process until $\\theta$ converges."
   ]
  },
  {
   "cell_type": "code",
   "execution_count": 2,
   "metadata": {
    "collapsed": true
   },
   "outputs": [],
   "source": [
    "class EM:\n",
    "    def __init__(self, y=np.array([125, 18, 20, 34])):\n",
    "        self.y = y\n",
    "        \n",
    "    def run(self, theta_init=0, max_iter=1000, thres=1e-10):\n",
    "        y = self.y\n",
    "        zs = []\n",
    "        thetas = [theta_init]\n",
    "        for _ in range(max_iter):\n",
    "            zs.append(y[0]*thetas[-1]/(thetas[-1]+2))\n",
    "            thetas.append((y[3]+zs[-1])/(y[1]+y[2]+y[3]+zs[-1]))\n",
    "            if abs(thetas[-1]-thetas[-2]) < thres:\n",
    "                break\n",
    "        self.zs = zs\n",
    "        self.thetas = thetas\n",
    "        return self"
   ]
  },
  {
   "cell_type": "markdown",
   "metadata": {},
   "source": [
    "We can run the algorithm from several different initial $\\theta$s to see whether they converge to the same point."
   ]
  },
  {
   "cell_type": "code",
   "execution_count": 3,
   "metadata": {},
   "outputs": [
    {
     "data": {
      "image/png": "[encoded data removed]",
      "text/plain": [
       "<matplotlib.figure.Figure at 0x7fc0d81dd7b8>"
      ]
     },
     "metadata": {},
     "output_type": "display_data"
    }
   ],
   "source": [
    "ems = [EM().run(theta_init=t) for t in [0, 0.2, 0.4, 0.6, 0.8, 1]]\n",
    "\n",
    "for em in ems:\n",
    "    plt.plot(range(len(em.thetas)), em.thetas, '.-', alpha=0.7, label=r'$\\theta_0={}$'.format(em.thetas[0]));\n",
    "plt.legend(bbox_to_anchor=(1, 1));\n",
    "plt.xlabel('iteration');\n",
    "plt.ylabel(r'$\\theta$');"
   ]
  },
  {
   "cell_type": "markdown",
   "metadata": {},
   "source": [
    "As we can see, they all converge to the same point."
   ]
  },
  {
   "cell_type": "code",
   "execution_count": 4,
   "metadata": {},
   "outputs": [
    {
     "name": "stdout",
     "output_type": "stream",
     "text": [
      "The estimate of the MLE of theta using EM is 0.6268.\n"
     ]
    }
   ],
   "source": [
    "print('The estimate of the MLE of theta using EM is {:.4f}.'.format(ems[0].thetas[-1]))"
   ]
  }
 ],
 "metadata": {
  "anaconda-cloud": {},
  "kernelspec": {
   "display_name": "Python 3",
   "language": "python",
   "name": "python3"
  },
  "language_info": {
   "codemirror_mode": {
    "name": "ipython",
    "version": 3
   },
   "file_extension": ".py",
   "mimetype": "text/x-python",
   "name": "python",
   "nbconvert_exporter": "python",
   "pygments_lexer": "ipython3",
   "version": "3.6.3"
  }
 },
 "nbformat": 4,
 "nbformat_minor": 2
}
