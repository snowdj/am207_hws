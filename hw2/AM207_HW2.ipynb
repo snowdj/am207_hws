{
 "cells": [
  {
   "cell_type": "markdown",
   "metadata": {},
   "source": [
    "#  Homework 2\n",
    "\n",
    "\n",
    "**Due Date: ** Friday, Febrary 9th, 2017 at 10am\n",
    "\n",
    "**Instructions:**\n",
    "\n",
    "- Upload your final answers as well as your iPython notebook containing all work to Canvas.\n",
    "\n",
    "- Structure your notebook and your work to maximize readability."
   ]
  },
  {
   "cell_type": "code",
   "execution_count": 1,
   "metadata": {
    "collapsed": true
   },
   "outputs": [],
   "source": [
    "import numpy as np\n",
    "import pandas as pd\n",
    "# from scipy.stats import norm\n",
    "\n",
    "import matplotlib\n",
    "import matplotlib.pyplot as plt\n",
    "\n",
    "import seaborn as sns\n",
    "sns.set_style(\"whitegrid\", {'axes.grid' : False})\n",
    "sns.set_context('talk')\n",
    "%matplotlib inline"
   ]
  },
  {
   "cell_type": "markdown",
   "metadata": {},
   "source": [
    "## Problem 1: Monte Carlo Integration\n",
    "\n",
    "Let $X$ be a random variable with distribution described by the following pdf:\n",
    "\n",
    "$$\n",
    "f_X(x) = \\begin{cases}\n",
    "\\frac{1}{12}(x-1), &1\\leq x\\leq 3\\\\\n",
    "-\\frac{1}{12}(x-5), &3< x\\leq 5\\\\\n",
    "\\frac{1}{6}(x-5), &5< x\\leq 7\\\\\n",
    "-\\frac{1}{6}(x-9), &7< x\\leq 9\\\\\n",
    "0, &otherwise\n",
    "\\end{cases}\n",
    "$$\n",
    "\n",
    "Let $h$ be the following function of $X$:\n",
    "\n",
    "$$\n",
    "h(X) = \\frac{1}{3\\sqrt{2}\\pi}\\mathrm{exp}\\left\\{ -\\frac{1}{18}\\left( X - 5\\right)^2\\right\\}\n",
    "$$\n",
    "\n",
    "Compute $\\mathbb{E}[h(X)]$ via Monte Carlo simulation using the following sampling methods:\n",
    "- inverse transform sampling\n",
    "- rejection sampling with both uniform proposal distribution and normal proposal distribution (steroids) (with appropriately chosen parameters)"
   ]
  },
  {
   "cell_type": "markdown",
   "metadata": {},
   "source": [
    "### Answer to Problem 1\n",
    "\n",
    "From LOTUS and the law of large numbers, we know\n",
    "$$\\mathbb{E}[h(X)] = \\int_D{h(x)f_X(x)dx}=\\lim_{n\\to\\infty}{\\frac{1}{N}\\sum_{x_i\\sim f}{h(x_i)}}$$"
   ]
  },
  {
   "cell_type": "code",
   "execution_count": 2,
   "metadata": {
    "collapsed": true
   },
   "outputs": [],
   "source": [
    "def p(x):\n",
    "    if x < 1:\n",
    "        return 0\n",
    "    elif x <= 3:\n",
    "        return (x - 1) / 12\n",
    "    elif x <= 5:\n",
    "        return (5 - x) / 12\n",
    "    elif x <= 7:\n",
    "        return (x - 5) / 6\n",
    "    elif x <= 9:\n",
    "        return (9 - x) / 6\n",
    "    else:\n",
    "        return 0\n",
    "    \n",
    "def CDF(x):\n",
    "    if x < 1:\n",
    "        return 0\n",
    "    elif x <= 3:\n",
    "        return (x - 1) ** 2 / 24\n",
    "    elif x <= 5:\n",
    "        return 1 / 3 - (x - 5) ** 2 / 24\n",
    "    elif x <= 7:\n",
    "        return 1 / 3 + (x - 5) ** 2 / 12\n",
    "    elif x <= 9:\n",
    "        return 1 - (x - 9) ** 2 / 12\n",
    "    else:\n",
    "        return 1\n",
    "    \n",
    "def invCDF(u):\n",
    "    if u < 0 or u > 1:\n",
    "        raise ValueError('Invalid input. Please make sure 0 <= u <= 1')\n",
    "    elif u <= 1 / 6:\n",
    "        return 1 + np.sqrt(24 * u)\n",
    "    elif u <= 1 / 3:\n",
    "        return 5 - np.sqrt(8 - 24 * u)\n",
    "    elif u <= 2 / 3:\n",
    "        return 5 + np.sqrt(12 * u - 4)\n",
    "    else:\n",
    "        return 9 - np.sqrt(12 - 12 * u)\n",
    "\n",
    "def h(x):\n",
    "    return np.exp(-(x - 5) ** 2 / 18) / (3 * np.sqrt(2) * np.pi)"
   ]
  },
  {
   "cell_type": "markdown",
   "metadata": {},
   "source": [
    "#### Inverse transform sampling"
   ]
  },
  {
   "cell_type": "code",
   "execution_count": 3,
   "metadata": {
    "collapsed": true
   },
   "outputs": [],
   "source": [
    "def inv_sampling(N=10000):\n",
    "    U = np.random.uniform(0, 1, N)\n",
    "    X = np.array([invCDF(_u) for _u in U])\n",
    "    return X"
   ]
  },
  {
   "cell_type": "code",
   "execution_count": 4,
   "metadata": {},
   "outputs": [
    {
     "data": {
      "image/png": "[encoded data removed]",
      "text/plain": [
       "<matplotlib.figure.Figure at 0x14f164b52b0>"
      ]
     },
     "metadata": {},
     "output_type": "display_data"
    }
   ],
   "source": [
    "N = 10000\n",
    "X = inv_sampling(N)\n",
    "\n",
    "plt.hist(X, bins=100, normed=True, label=u'Samples');\n",
    "xvals = np.arange(1, 9.1, 0.1)\n",
    "plt.plot(xvals, [p(_x) for _x in xvals], 'r', label=u'$p(x)$');\n",
    "plt.legend();\n",
    "plt.xlabel('$x$');"
   ]
  },
  {
   "cell_type": "markdown",
   "metadata": {},
   "source": [
    "As we can see, the inverse transform sampling works."
   ]
  },
  {
   "cell_type": "code",
   "execution_count": 5,
   "metadata": {},
   "outputs": [
    {
     "name": "stdout",
     "output_type": "stream",
     "text": [
      "The estimated E[h(X)] via Monte Carlo simulation using inverse transform sampling is 0.058975694691102684.\n"
     ]
    }
   ],
   "source": [
    "print('The estimated E[h(X)] via Monte Carlo simulation using inverse transform sampling is {}.'\\\n",
    "     .format(np.mean(h(X))))"
   ]
  },
  {
   "cell_type": "markdown",
   "metadata": {},
   "source": [
    "#### Rejection sampling with uniform proposal distribution"
   ]
  },
  {
   "cell_type": "code",
   "execution_count": 6,
   "metadata": {
    "collapsed": true
   },
   "outputs": [],
   "source": [
    "def uni_rej_sampling(N=10000, xmin=1, xmax=9, ymax=1/3, return_stat=False):\n",
    "    accepted = 0\n",
    "    count = 0\n",
    "    X = np.zeros(N)\n",
    "    while (accepted < N):\n",
    "        x = np.random.uniform(xmin, xmax)\n",
    "        y = np.random.uniform(0, ymax)\n",
    "        if y < p(x):\n",
    "            X[accepted] = x\n",
    "            accepted += 1\n",
    "        count += 1\n",
    "    if return_stat:\n",
    "        return X, accepted, count\n",
    "    else:\n",
    "        return X"
   ]
  },
  {
   "cell_type": "code",
   "execution_count": 7,
   "metadata": {},
   "outputs": [
    {
     "name": "stdout",
     "output_type": "stream",
     "text": [
      "Count 26764; Accepted 10000\n"
     ]
    },
    {
     "data": {
      "image/png": "[encoded data removed]",
      "text/plain": [
       "<matplotlib.figure.Figure at 0x14f16ab40f0>"
      ]
     },
     "metadata": {},
     "output_type": "display_data"
    }
   ],
   "source": [
    "X, accepted, count = uni_rej_sampling(return_stat=True)   \n",
    "\n",
    "print('Count {}; Accepted {}'.format(count, accepted))\n",
    "\n",
    "plt.hist(X, bins=100, normed=True, label=u'Samples');\n",
    "xvals = np.arange(1, 9, 0.1)\n",
    "plt.plot(xvals, [p(_x) for _x in xvals], 'r', label=u'$p(x)$');\n",
    "plt.legend();\n",
    "plt.xlabel('$x$');"
   ]
  },
  {
   "cell_type": "code",
   "execution_count": 8,
   "metadata": {},
   "outputs": [
    {
     "name": "stdout",
     "output_type": "stream",
     "text": [
      "The estimated E[h(X)] via Monte Carlo simulation using rejection sampling with uniform proposal distribution is \n",
      "0.05879118429417151.\n"
     ]
    }
   ],
   "source": [
    "print('The estimated E[h(X)] via Monte Carlo simulation using rejection sampling with \\\n",
    "uniform proposal distribution is \\n{}.'\\\n",
    "     .format(np.mean(h(X))))"
   ]
  },
  {
   "cell_type": "markdown",
   "metadata": {},
   "source": [
    "#### Rejection sampling with normal proposal distribution"
   ]
  },
  {
   "cell_type": "markdown",
   "metadata": {},
   "source": [
    "First we need to find a proper $M$ and $g(x)$ so that $M g(x) > f(x)$. From some trials, we find it is a good choice to set $M=3, \\mu=6.5, \\sigma=3$ as shown below."
   ]
  },
  {
   "cell_type": "code",
   "execution_count": 9,
   "metadata": {
    "collapsed": true
   },
   "outputs": [],
   "source": [
    "def normpdf(x, loc, scale):\n",
    "    u = (x - loc) / scale\n",
    "    return (1 / np.sqrt(2 * np.pi) / scale) * np.exp(-u * u / 2)\n",
    "    "
   ]
  },
  {
   "cell_type": "code",
   "execution_count": 10,
   "metadata": {},
   "outputs": [
    {
     "data": {
      "image/png": "[encoded data removed]",
      "text/plain": [
       "<matplotlib.figure.Figure at 0x14f1681d198>"
      ]
     },
     "metadata": {},
     "output_type": "display_data"
    }
   ],
   "source": [
    "M = 3\n",
    "mu = 6.5\n",
    "sigma = 3\n",
    "xvals = np.arange(1, 9.1, 0.1)\n",
    "plt.plot(xvals, [p(_x) for _x in xvals], 'r', label=u'$p(x)$');\n",
    "plt.plot(xvals, M * normpdf(xvals, loc=mu, scale=sigma), label=u'$M g(x)$');\n",
    "plt.legend();\n",
    "plt.xlabel('$x$');\n",
    "plt.title('$M={}, \\mu={}, \\sigma={}$'.format(M, mu, sigma));"
   ]
  },
  {
   "cell_type": "code",
   "execution_count": 11,
   "metadata": {
    "collapsed": true
   },
   "outputs": [],
   "source": [
    "def norm_rej_sampling(N=10000, xmin=1, xmax=9, M=3, mu=6.5, sigma=3, return_stat=False):\n",
    "    accepted = 0\n",
    "    count = 0\n",
    "    X = np.zeros(N)\n",
    "    while (accepted < N):\n",
    "        x = np.random.normal(loc=mu, scale=sigma)\n",
    "        if xmin <= x and x <= xmax:\n",
    "            y = np.random.uniform(0, 1)\n",
    "            if y < p(x) / M / normpdf(x, loc=mu, scale=sigma):\n",
    "                X[accepted] = x\n",
    "                accepted += 1\n",
    "        count += 1\n",
    "    if return_stat:\n",
    "        return X, accepted, count\n",
    "    else:\n",
    "        return X"
   ]
  },
  {
   "cell_type": "code",
   "execution_count": 12,
   "metadata": {},
   "outputs": [
    {
     "name": "stdout",
     "output_type": "stream",
     "text": [
      "Count 29915; Accepted 10000\n"
     ]
    },
    {
     "data": {
      "image/png": "[encoded data removed]",
      "text/plain": [
       "<matplotlib.figure.Figure at 0x14f16b10c18>"
      ]
     },
     "metadata": {},
     "output_type": "display_data"
    }
   ],
   "source": [
    "X, accepted, count = norm_rej_sampling(return_stat=True)\n",
    "\n",
    "print('Count {}; Accepted {}'.format(count, accepted))\n",
    "\n",
    "plt.hist(X, bins=100, normed=True, label=u'Samples');\n",
    "xvals = np.arange(1, 9.1, 0.1)\n",
    "plt.plot(xvals, [p(_x) for _x in xvals], 'r', label=u'$p(x)$');\n",
    "plt.legend();\n",
    "plt.xlabel('$x$');"
   ]
  },
  {
   "cell_type": "code",
   "execution_count": 13,
   "metadata": {},
   "outputs": [
    {
     "name": "stdout",
     "output_type": "stream",
     "text": [
      "The estimated E[h(X)] via Monte Carlo simulation using rejection sampling with normal proposal distribution is \n",
      "0.058855470407416996.\n"
     ]
    }
   ],
   "source": [
    "print('The estimated E[h(X)] via Monte Carlo simulation using rejection sampling with \\\n",
    "normal proposal distribution is \\n{}.'\\\n",
    "     .format(np.mean(h(X))))"
   ]
  },
  {
   "cell_type": "markdown",
   "metadata": {},
   "source": [
    "## Problem 2: Variance Reduction\n",
    "\n",
    "### Part A\n",
    "\n",
    "Compute the variance of each estimate of $\\mathbb{E}[h(X)]$ obtained in Problem 1. What do you see?\n",
    "\n",
    "### Part B (Stratified Sampling)\n",
    "\n",
    "Often, a complex integral can be computed with more ease if one can break up the domain of the integral into pieces and if on each piece of the domain the integral is simplified. \n",
    "\n",
    "- Find a natural way to divide the domain of $X$ and express $\\mathbb{E}[h(X)]$ as an ***correctly*** weighted sum of integrals over the pieces of the domain of $X$. (This constitutes the essentials of Stratified Sampling)\n",
    "\n",
    "- Estimate each integral in the summand using rejection sampling using a normal proposal distribution (with sensibly chosen parameters). From these, estimate $\\mathbb{E}[h(X)]$.\n",
    "\n",
    "- Compute the variance of your estimate of $\\mathbb{E}[h(X)]$. Compare with the variance of your previous estimate of $\\mathbb{E}[h(X)]$ (in Part A, using rejection sampling, a normal proposal distribution over the entire domain of $X$).\n",
    "\n",
    "Read more about Stratified Sampling:\n",
    "\n",
    "1. [Monte Carlo Methods](http://www.public.iastate.edu/~mervyn/stat580/Notes/s09mc.pdf)\n",
    "\n",
    "2. [Variance Reduction Techniques Chapter](http://sas.uwaterloo.ca/~dlmcleis/s906/chapt4.pdf)"
   ]
  },
  {
   "cell_type": "markdown",
   "metadata": {},
   "source": [
    "### Answer to Problem 2 Part A\n",
    "\n",
    "We can estimate the variance of each estimate by repeating each simulation 500 times, respectively."
   ]
  },
  {
   "cell_type": "code",
   "execution_count": 14,
   "metadata": {},
   "outputs": [
    {
     "name": "stdout",
     "output_type": "stream",
     "text": [
      "Wall time: 19.8 s\n"
     ]
    }
   ],
   "source": [
    "%%time\n",
    "N_rep = 500\n",
    "E_inv = np.array([np.mean(h(inv_sampling())) for _ in range(N_rep)])"
   ]
  },
  {
   "cell_type": "code",
   "execution_count": 15,
   "metadata": {},
   "outputs": [
    {
     "name": "stdout",
     "output_type": "stream",
     "text": [
      "Wall time: 47.7 s\n"
     ]
    }
   ],
   "source": [
    "%%time\n",
    "E_uni = np.array([np.mean(h(uni_rej_sampling())) for _ in range(N_rep)])"
   ]
  },
  {
   "cell_type": "code",
   "execution_count": 16,
   "metadata": {},
   "outputs": [
    {
     "name": "stdout",
     "output_type": "stream",
     "text": [
      "Wall time: 2min 12s\n"
     ]
    }
   ],
   "source": [
    "%%time\n",
    "E_norm = np.array([np.mean(h(norm_rej_sampling())) for _ in range(N_rep)])"
   ]
  },
  {
   "cell_type": "code",
   "execution_count": 17,
   "metadata": {},
   "outputs": [
    {
     "data": {
      "image/png": "[encoded data removed]",
      "text/plain": [
       "<matplotlib.figure.Figure at 0x14f1688d7b8>"
      ]
     },
     "metadata": {},
     "output_type": "display_data"
    }
   ],
   "source": [
    "plt.hist(E_inv, 30, alpha=0.5, label='Inverse transform sampling');\n",
    "plt.hist(E_uni, 30, alpha=0.5, label='Rejection sampling (uniform)');\n",
    "plt.hist(E_norm, 30, alpha=0.5, label='Rejection sampling (normal)');\n",
    "plt.legend(loc=2);"
   ]
  },
  {
   "cell_type": "code",
   "execution_count": 18,
   "metadata": {},
   "outputs": [
    {
     "name": "stdout",
     "output_type": "stream",
     "text": [
      "The estimated variance of each estimate of E[h(X)] (total sample size in each simulation: 10000):\n",
      "Inverse transform sampling 1.0315666174808508e-08\n",
      "Rejection sampling with uniform proposal distribution 1.0346500921144041e-08\n",
      "Rejection sampling with normal proposal distribution 1.1487608922210426e-08\n"
     ]
    }
   ],
   "source": [
    "print('The estimated variance of each estimate of E[h(X)] (total sample size in each simulation: 10000):')\n",
    "print('Inverse transform sampling {}'.format(np.var(E_inv)))\n",
    "print('Rejection sampling with uniform proposal distribution {}'.format(np.var(E_uni)))\n",
    "print('Rejection sampling with normal proposal distribution {}'.format(np.var(E_norm)))"
   ]
  },
  {
   "cell_type": "markdown",
   "metadata": {},
   "source": [
    "As we can see, the variance of estimate obtained by 3 sampling methods is very close to each other."
   ]
  },
  {
   "cell_type": "markdown",
   "metadata": {},
   "source": [
    "### Answer to Problem 2 Part B\n",
    "\n",
    "We break $[1, 9]$ into 8 equispaced strata and represent each region by $D_j$. We denote $\\mathbb{E}[h(X)]$ as $\\mu$, then we have\n",
    "$$\\mu=\\mathbb{E}[h(X)] = \\int_D h(x) f(x) dx = \\sum_j \\int_{D_j} h(x) f(x) dx$$\n",
    "We define the probability of being in region $D_j$ as $p_j$, then \n",
    "$$p_j = \\int_{D_j} f(x) dx = F(b)-F(a),$$\n",
    "where $F(x)$ is the CDF of $f_X$, and $a, b$ are 2 end points of region $D_j$.\n",
    "\n",
    "Then,\n",
    "$$\\mu = \\sum_j p_j \\int_{D_j} h(x) \\frac{f(x)}{p_j} dx = \\sum_j p_j \\mu_j,$$\n",
    "where\n",
    "$$\\mu_j = \\mathbb{E}_{f_j}[h] = \\int_{D_j} h(x) f_j(x) dx.$$\n",
    "\n",
    "We can estimate each $\\mu_j$ by\n",
    "$$\\hat{\\mu_j} = \\frac{1}{n_j} \\sum_{x_i \\sim f_j} h(x_i).$$\n",
    "\n",
    "The estimation of $\\mathbb{E}[h(X)]$ is\n",
    "$$\\hat{\\mu} = \\sum_j p_j \\hat{\\mu_j}.$$"
   ]
  },
  {
   "cell_type": "markdown",
   "metadata": {},
   "source": [
    "Here, we use 2 normal proposal distributions for rejection sampling of different regions of $X$. We find a set of proper parameters through some trials. The result is shown below."
   ]
  },
  {
   "cell_type": "code",
   "execution_count": 19,
   "metadata": {},
   "outputs": [
    {
     "data": {
      "image/png": "[encoded data removed]",
      "text/plain": [
       "<matplotlib.figure.Figure at 0x14f16c4d0f0>"
      ]
     },
     "metadata": {},
     "output_type": "display_data"
    }
   ],
   "source": [
    "M1 = 0.51\n",
    "mu1 = 3\n",
    "sigma1 = 1.2\n",
    "\n",
    "M2 = 1\n",
    "mu2 = 7\n",
    "sigma2 = 1.1\n",
    "\n",
    "xvals = np.arange(1, 9.1, 0.1)\n",
    "plt.plot(xvals, [p(_x) for _x in xvals], 'r', label=u'$p(x)$');\n",
    "plt.plot(xvals, M1 * normpdf(xvals, loc=mu1, scale=sigma1), label=u'$M_1 g_1(x)$');\n",
    "plt.plot(xvals, M2 * normpdf(xvals, loc=mu2, scale=sigma2), label=u'$M_2 g_2(x)$');\n",
    "plt.legend();\n",
    "plt.xlabel('$x$');\n",
    "\n",
    "assert(M1 * normpdf(mu1, mu1, sigma1) > p(mu1))\n",
    "\n",
    "xmin = 1\n",
    "xmax = 9\n",
    "Ns = 8\n",
    "step = (xmax - xmin) / Ns\n",
    "for j in range(Ns + 1):\n",
    "    plt.axvline(xmin + j * step, 0, 1, color='k', alpha=0.2)"
   ]
  },
  {
   "cell_type": "markdown",
   "metadata": {},
   "source": [
    "We write a class `Stratification` for the estimation of $\\mathbb{E}[h(X)]$. Specifically, we obtain 1250 samples in each region; the total number of samples is still 10000."
   ]
  },
  {
   "cell_type": "code",
   "execution_count": 20,
   "metadata": {
    "collapsed": true
   },
   "outputs": [],
   "source": [
    "class Stratification:\n",
    "    def __init__(self):\n",
    "        self.pj = self.cal_pj()\n",
    "    \n",
    "    def _sampling(self, M, mu, sigma, bins, nums):\n",
    "        samples = [[] for _ in nums]\n",
    "        N = np.sum(nums)\n",
    "        n_bins = len(nums)\n",
    "        while (np.any(np.array([len(_) for _ in samples]) < nums)):\n",
    "            x = np.random.normal(loc=mu, scale=sigma, size=N)\n",
    "            y = np.random.uniform(0, 1, size=N)\n",
    "            x = x[y < np.array([p(_x) for _x in x]) / M / normpdf(x, loc=mu, scale=sigma)]\n",
    "            ind = np.digitize(x, bins, right=True)\n",
    "            s = [x[ind == i + 1] for i in range(n_bins)]\n",
    "            samples = [np.concatenate((_s, s[i])) for i, _s in enumerate(samples)]\n",
    "        return [_s[:nums[i]] for i, _s in enumerate(samples)]\n",
    "    \n",
    "    def sampling(self, params1=(0.51, 3, 1.2), params2=(1, 7, 1.1), N=10000):\n",
    "        bins1 = [1, 2, 3, 4, 5]\n",
    "        bins2 = [5, 6, 7, 8, 9]\n",
    "        n_bins = len(bins1) + len(bins2) - 2\n",
    "        nums1 = [N // n_bins for _ in bins1][:-1]\n",
    "        nums2 = [N // n_bins for _ in bins2][:-1]\n",
    "        return self._sampling(params1[0], params1[1], params1[2], bins1, nums1) \\\n",
    "    + self._sampling(params2[0], params2[1], params2[2], bins2, nums2)\n",
    "    \n",
    "    def cal_pj(self):\n",
    "        return np.array([CDF(i + 1) - CDF(i) for i in range(1, 9)])\n",
    "    \n",
    "    def estimate_eh(self):\n",
    "        return np.dot(self.pj, [np.mean(h(s)) for s in self.sampling()])"
   ]
  },
  {
   "cell_type": "code",
   "execution_count": 21,
   "metadata": {},
   "outputs": [
    {
     "name": "stdout",
     "output_type": "stream",
     "text": [
      "The estimated E[h(X)] using stratified sampling is 0.05881822194223131.\n"
     ]
    }
   ],
   "source": [
    "print('The estimated E[h(X)] using stratified sampling is {}.'.format(Stratification().estimate_eh()))"
   ]
  },
  {
   "cell_type": "markdown",
   "metadata": {},
   "source": [
    "To estimate the variance of the estimation, we repeat the simulation for 500 times."
   ]
  },
  {
   "cell_type": "code",
   "execution_count": 22,
   "metadata": {},
   "outputs": [
    {
     "name": "stdout",
     "output_type": "stream",
     "text": [
      "Wall time: 38.8 s\n"
     ]
    }
   ],
   "source": [
    "%%time\n",
    "s = Stratification()\n",
    "E_strat = np.array([s.estimate_eh() for _ in range(N_rep)])"
   ]
  },
  {
   "cell_type": "code",
   "execution_count": 23,
   "metadata": {},
   "outputs": [
    {
     "data": {
      "image/png": "[encoded data removed]",
      "text/plain": [
       "<matplotlib.figure.Figure at 0x14f16e58550>"
      ]
     },
     "metadata": {},
     "output_type": "display_data"
    }
   ],
   "source": [
    "plt.hist(E_inv, 30, alpha=0.1, label='Inverse transform sampling');\n",
    "plt.hist(E_uni, 30, alpha=0.1, label='Rejection sampling (uniform)');\n",
    "plt.hist(E_norm, 30, alpha=0.1, label='Rejection sampling (normal)');\n",
    "plt.hist(E_strat, 30, alpha=0.5, label='Stratified sampling');\n",
    "plt.legend(loc=2);"
   ]
  },
  {
   "cell_type": "code",
   "execution_count": 24,
   "metadata": {},
   "outputs": [
    {
     "name": "stdout",
     "output_type": "stream",
     "text": [
      "The estimated variance of each estimate of E[h(X)] (total sample size in each simulation: 10000):\n",
      "Inverse transform sampling 1.0315666174808508e-08\n",
      "Rejection sampling with uniform proposal distribution 1.0346500921144041e-08\n",
      "Rejection sampling with normal proposal distribution 1.1487608922210426e-08\n",
      "Stratified sampling 1.8864478017771698e-09\n",
      "\n",
      "Compared with rejection sampling with normal proposal distribution, \n",
      "the variance reduction using stratified sampling is roughly 6.1.\n"
     ]
    }
   ],
   "source": [
    "print('The estimated variance of each estimate of E[h(X)] (total sample size in each simulation: 10000):')\n",
    "print('Inverse transform sampling {}'.format(np.var(E_inv)))\n",
    "print('Rejection sampling with uniform proposal distribution {}'.format(np.var(E_uni)))\n",
    "print('Rejection sampling with normal proposal distribution {}'.format(np.var(E_norm)))\n",
    "print('Stratified sampling {}'.format(np.var(E_strat)))\n",
    "print()\n",
    "print('Compared with rejection sampling with normal proposal distribution, ')\n",
    "print('the variance reduction using stratified sampling is roughly {:.1f}.'\\\n",
    "      .format(np.var(E_norm) / np.var(E_strat)))"
   ]
  },
  {
   "cell_type": "markdown",
   "metadata": {},
   "source": [
    "As we can see, the variance of the estimate using stratified sampling is roughly an order of magnitude smaller than that of previous estimates (in Part A)."
   ]
  },
  {
   "cell_type": "markdown",
   "metadata": {},
   "source": [
    "## Problem 3: Linear Regression\n",
    "\n",
    "Consider the following base Regression class, which roughly follows the API in the python package `scikit-learn`.\n",
    "\n",
    "Our model is the the multivariate linear model whose MLE solution or equivalent cost minimization was talked about in lecture:\n",
    "\n",
    "$$y = X\\beta + \\epsilon$$\n",
    "where $y$ is a length $n$ vector, $X$ is an $m \\times p$ matrix created by stacking the features for each data point, and $\\beta$ is a $p$ length vector of coefficients.\n",
    "\n",
    "The class showcases the API:\n",
    "\n",
    "$fit(X, y)$: Fits linear model to $X$ and $y$.\n",
    "\n",
    "$get\\_params()$: Returns $\\hat{\\beta}$ for the fitted model. The parameters should be stored in a dictionary with keys \"intercept\" and \"coef\" that give us $\\hat{\\beta_0}$ and $\\hat{\\beta_{1:}}$. (The second value here is thus a numpy array of coefficient values)\n",
    "\n",
    "$predict(X)$: Predict new values with the fitted model given $X$.\n",
    "\n",
    "$score(X, y)$: Returns $R^2$ value of the fitted model.\n",
    "\n",
    "$set\\_params()$: Manually set the parameters of the linear model.\n",
    "\n"
   ]
  },
  {
   "cell_type": "code",
   "execution_count": 25,
   "metadata": {
    "collapsed": true
   },
   "outputs": [],
   "source": [
    "class Regression(object):\n",
    "    \n",
    "    def __init__(self):\n",
    "        self.params = dict()\n",
    "    \n",
    "    def get_params(self, k):\n",
    "        return self.params[k]\n",
    "    \n",
    "    def set_params(self, **kwargs):\n",
    "        for k,v in kwargs.iteritems():\n",
    "            self.params[k] = v\n",
    "        \n",
    "    def fit(self, X, y):\n",
    "        raise NotImplementedError()\n",
    "        \n",
    "    def predict(self, X):\n",
    "        raise NotImplementedError()\n",
    "        \n",
    "    def score(self, X, y):\n",
    "        raise NotImplementedError()"
   ]
  },
  {
   "cell_type": "markdown",
   "metadata": {},
   "source": [
    "### Part A:  a class for Ordinary Least Squares\n",
    "\n",
    "Inherit from this class to create an ordinary Least Squares Linear Regression class. \n",
    "\n",
    "It's signature will look like this:\n",
    "\n",
    "`class OLS(Regression):`\n",
    "\n",
    "Implement `fit`, `predict` and `score`. This will involve some linear algebra. (You might want to read up on pseudo-inverses before you directly implement the linear algebra on the lecure slides).\n",
    "\n",
    "#### $R^2$ score\n",
    "\n",
    "To implement `score`, look below:\n",
    "\n",
    "The $R^2$ score is defined as: $${R^{2} = {1-{SS_E \\over SS_T}}}$$\n",
    "\n",
    "Where:\n",
    "\n",
    "$$SS_T=\\sum_i (y_i-\\bar{y})^2, SS_R=\\sum_i (\\hat{y_i}-\\bar{y})^2, SS_E=\\sum_i (y_i - \\hat{y_i})^2$$\n",
    "where  ${y_i}$ are the original data values, $\\hat{y_i}$ are the predicted values, and $\\bar{y_i}$ is the mean of the original data values.\n",
    "\n"
   ]
  },
  {
   "cell_type": "markdown",
   "metadata": {},
   "source": [
    "### Answer to Problem 3 Part A"
   ]
  },
  {
   "cell_type": "code",
   "execution_count": 26,
   "metadata": {
    "collapsed": true
   },
   "outputs": [],
   "source": [
    "import numpy as np\n",
    "\n",
    "class OLS(Regression):\n",
    "    def __init__(self):\n",
    "        super().__init__()\n",
    "    \n",
    "    def fit(self, X, y):\n",
    "        if len(X) != len(y):\n",
    "            raise ValueError('Inconsistent dimensionality.')\n",
    "        X = np.concatenate((np.ones((len(X), 1)), X), axis=1)\n",
    "        beta = np.dot(np.dot(np.linalg.pinv(np.dot(X.T, X)), X.T), y)\n",
    "        self.params['intercept'] = beta[0]\n",
    "        self.params['coef'] = beta[1:]\n",
    "        return self\n",
    "    \n",
    "    def predict(self, X):\n",
    "        if not 'coef' in self.params:\n",
    "            raise ValueError('Estimator not fitted.')\n",
    "        X = np.concatenate((np.ones((len(X), 1)), X), axis=1)\n",
    "        beta = np.concatenate(([self.params['intercept']], self.params['coef']))\n",
    "        return np.dot(X, beta)\n",
    "    \n",
    "    def score(self, X, y):\n",
    "        y_pred = self.predict(X)\n",
    "        return 1 - np.sum(np.square(y - y_pred)) / np.sum(np.square(y - np.mean(y)))"
   ]
  },
  {
   "cell_type": "markdown",
   "metadata": {},
   "source": [
    "### Part B: test your code\n",
    "\n",
    "We'll create a synthetic data set using the code below. (Read the documentation for `make_regression` to see what is going on)."
   ]
  },
  {
   "cell_type": "code",
   "execution_count": 27,
   "metadata": {},
   "outputs": [
    {
     "data": {
      "text/plain": [
       "array([ 76.6568183 ,  77.67682678,  63.78807738,  19.3299907 ,\n",
       "        59.01638708,  53.13633737,  28.77629958,  10.01888939,\n",
       "         9.25346811,  59.55220395])"
      ]
     },
     "execution_count": 27,
     "metadata": {},
     "output_type": "execute_result"
    }
   ],
   "source": [
    "from sklearn.datasets import make_regression\n",
    "import numpy as np\n",
    "np.random.seed(99)\n",
    "X, y, coef = make_regression(30,10, 10, bias=1, noise=2, coef=True)\n",
    "coef"
   ]
  },
  {
   "cell_type": "markdown",
   "metadata": {},
   "source": [
    "Verify that your code recovers these coefficients approximately on doing the fit. Plot the predicted `y` against the actual `y`. Also calculate the score using the same sets `X` and `y`. The usage will look something like:\n",
    "\n",
    "```python\n",
    "lr = OLS()\n",
    "lr.fit(X,y)\n",
    "lr.get_params['coef']\n",
    "lr.redict(X,y)\n",
    "lr.score(X,y)\n",
    "```"
   ]
  },
  {
   "cell_type": "markdown",
   "metadata": {},
   "source": [
    "### Answer to Problem 4 Part B"
   ]
  },
  {
   "cell_type": "code",
   "execution_count": 28,
   "metadata": {},
   "outputs": [
    {
     "name": "stdout",
     "output_type": "stream",
     "text": [
      "The intercept of the fitted model is 1.345803570783806.\n",
      "The coefficients of the fitted model is [ 77.20719705  76.51004831  62.97865316  18.4436452   58.50019885\n",
      "  53.25126559  28.29088241   9.33333359  10.29584457  59.1606719 ].\n",
      "The L2 distance of the coefficients of the fitted model and the actual coefficients is 2.3087.\n"
     ]
    }
   ],
   "source": [
    "lr = OLS()\n",
    "lr.fit(X, y)\n",
    "intercept1 = lr.get_params('intercept')\n",
    "coef1 = lr.get_params('coef')\n",
    "print('The intercept of the fitted model is {}.'.format(intercept1))\n",
    "print('The coefficients of the fitted model is {}.'.format(coef1))\n",
    "print('The L2 distance of the coefficients of the fitted model and the actual coefficients is {:.4f}.'\\\n",
    "      .format(np.linalg.norm(coef - coef1)))"
   ]
  },
  {
   "cell_type": "markdown",
   "metadata": {},
   "source": [
    "Given the order of magnitude of the coefficients, the fitting recovers the coefficients pretty well."
   ]
  },
  {
   "cell_type": "code",
   "execution_count": 29,
   "metadata": {},
   "outputs": [
    {
     "data": {
      "image/png": "[encoded data removed]",
      "text/plain": [
       "<matplotlib.figure.Figure at 0x14f16cabf60>"
      ]
     },
     "metadata": {},
     "output_type": "display_data"
    }
   ],
   "source": [
    "y_pred = lr.predict(X)\n",
    "\n",
    "plt.plot(range(len(y)), y, 'r<', alpha=0.5, label='$y$');\n",
    "plt.plot(range(len(y_pred)), y_pred, 'g>', alpha=0.5, label='$\\hat{y}$');\n",
    "plt.legend();\n",
    "plt.ylabel('$y$');"
   ]
  },
  {
   "cell_type": "markdown",
   "metadata": {},
   "source": [
    "As we can see, the predicted $y$s are very close to the actual $y$s."
   ]
  },
  {
   "cell_type": "code",
   "execution_count": 30,
   "metadata": {},
   "outputs": [
    {
     "name": "stdout",
     "output_type": "stream",
     "text": [
      "The R2 score is 0.9999155832062194.\n"
     ]
    }
   ],
   "source": [
    "r2 = lr.score(X, y)\n",
    "print('The R2 score is {}.'.format(r2))"
   ]
  }
 ],
 "metadata": {
  "anaconda-cloud": {},
  "kernelspec": {
   "display_name": "Python 3",
   "language": "python",
   "name": "python3"
  },
  "language_info": {
   "codemirror_mode": {
    "name": "ipython",
    "version": 3
   },
   "file_extension": ".py",
   "mimetype": "text/x-python",
   "name": "python",
   "nbconvert_exporter": "python",
   "pygments_lexer": "ipython3",
   "version": "3.6.3"
  }
 },
 "nbformat": 4,
 "nbformat_minor": 1
}
